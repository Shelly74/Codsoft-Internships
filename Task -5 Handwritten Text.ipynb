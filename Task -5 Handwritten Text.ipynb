{
  "cells": [
    {
      "cell_type": "code",
      "execution_count": null,
      "metadata": {},
      "outputs": [],
      "source": [
        "# Handwritten Text Generation\n",
        "#Shelly Maan Singh Rajpoot Garg(Kanhiya Romeo Garg)"
      ]
    },
    {
      "cell_type": "code",
      "execution_count": 12,
      "metadata": {
        "id": "rBIC_gj9Vv6p"
      },
      "outputs": [],
      "source": [
        "import numpy as np\n",
        "import tensorflow as tf\n",
        "from tensorflow.keras.preprocessing.text import Tokenizer\n",
        "from tensorflow.keras.preprocessing.sequence import pad_sequences\n",
        "from tensorflow.keras.models import Sequential\n",
        "from tensorflow.keras.layers import Embedding, LSTM, Dense\n",
        "\n",
        "# Read the text file\n",
        "with open('/content/sherlock-holm.es_stories_plain-text_advs.txt', 'r', encoding='utf-8') as file:\n",
        "    text = file.read()"
      ]
    },
    {
      "cell_type": "code",
      "execution_count": 13,
      "metadata": {
        "id": "fb1Y8tRfWTfg"
      },
      "outputs": [],
      "source": [
        "tokenizer = Tokenizer()\n",
        "tokenizer.fit_on_texts([text])\n",
        "total_words = len(tokenizer.word_index) + 1"
      ]
    },
    {
      "cell_type": "code",
      "execution_count": 14,
      "metadata": {
        "id": "uoY4H4sjWWGa"
      },
      "outputs": [],
      "source": [
        "input_sequences = []\n",
        "for line in text.split('\\n'):\n",
        "    token_list = tokenizer.texts_to_sequences([line])[0]\n",
        "    for i in range(1, len(token_list)):\n",
        "        n_gram_sequence = token_list[:i+1]\n",
        "        input_sequences.append(n_gram_sequence)"
      ]
    },
    {
      "cell_type": "code",
      "execution_count": 15,
      "metadata": {
        "id": "HDDx7BcTWaKG"
      },
      "outputs": [],
      "source": [
        "max_sequence_len = max([len(seq) for seq in input_sequences])\n",
        "input_sequences = np.array(pad_sequences(input_sequences, maxlen=max_sequence_len, padding='pre'))"
      ]
    },
    {
      "cell_type": "code",
      "execution_count": 16,
      "metadata": {
        "id": "XkxXIpfaWbRu"
      },
      "outputs": [],
      "source": [
        "X = input_sequences[:, :-1]\n",
        "y = input_sequences[:, -1]"
      ]
    },
    {
      "cell_type": "code",
      "execution_count": 17,
      "metadata": {
        "id": "CvIfQM8FWevo"
      },
      "outputs": [],
      "source": [
        "y = np.array(tf.keras.utils.to_categorical(y, num_classes=total_words))"
      ]
    },
    {
      "cell_type": "code",
      "execution_count": 18,
      "metadata": {
        "colab": {
          "base_uri": "https://localhost:8080/"
        },
        "id": "84Y0uCitWhZY",
        "outputId": "91e68c52-fc08-4d16-c667-0b69ea93b1ad"
      },
      "outputs": [
        {
          "name": "stdout",
          "output_type": "stream",
          "text": [
            "Model: \"sequential_1\"\n",
            "_________________________________________________________________\n",
            " Layer (type)                Output Shape              Param #   \n",
            "=================================================================\n",
            " embedding_1 (Embedding)     (None, 17, 100)           820000    \n",
            "                                                                 \n",
            " lstm_1 (LSTM)               (None, 150)               150600    \n",
            "                                                                 \n",
            " dense_1 (Dense)             (None, 8200)              1238200   \n",
            "                                                                 \n",
            "=================================================================\n",
            "Total params: 2,208,800\n",
            "Trainable params: 2,208,800\n",
            "Non-trainable params: 0\n",
            "_________________________________________________________________\n",
            "None\n"
          ]
        }
      ],
      "source": [
        "model = Sequential()\n",
        "model.add(Embedding(total_words, 100, input_length=max_sequence_len-1))\n",
        "model.add(LSTM(150))\n",
        "model.add(Dense(total_words, activation='softmax'))\n",
        "print(model.summary())"
      ]
    },
    {
      "cell_type": "code",
      "execution_count": 19,
      "metadata": {
        "colab": {
          "base_uri": "https://localhost:8080/"
        },
        "id": "smTUQc6QWj4v",
        "outputId": "5294cb69-3439-4ae1-a8b8-19cd883e0b6c"
      },
      "outputs": [
        {
          "name": "stdout",
          "output_type": "stream",
          "text": [
            "Epoch 1/100\n",
            "3010/3010 [==============================] - 33s 10ms/step - loss: 6.2571 - accuracy: 0.0740\n",
            "Epoch 2/100\n",
            "3010/3010 [==============================] - 19s 6ms/step - loss: 5.5156 - accuracy: 0.1246\n",
            "Epoch 3/100\n",
            "3010/3010 [==============================] - 19s 6ms/step - loss: 5.1238 - accuracy: 0.1470\n",
            "Epoch 4/100\n",
            "3010/3010 [==============================] - 20s 7ms/step - loss: 4.7929 - accuracy: 0.1654\n",
            "Epoch 5/100\n",
            "3010/3010 [==============================] - 18s 6ms/step - loss: 4.4900 - accuracy: 0.1833\n",
            "Epoch 6/100\n",
            "3010/3010 [==============================] - 19s 6ms/step - loss: 4.2049 - accuracy: 0.2044\n",
            "Epoch 7/100\n",
            "3010/3010 [==============================] - 18s 6ms/step - loss: 3.9356 - accuracy: 0.2278\n",
            "Epoch 8/100\n",
            "3010/3010 [==============================] - 19s 6ms/step - loss: 3.6796 - accuracy: 0.2571\n",
            "Epoch 9/100\n",
            "3010/3010 [==============================] - 18s 6ms/step - loss: 3.4384 - accuracy: 0.2899\n",
            "Epoch 10/100\n",
            "3010/3010 [==============================] - 19s 6ms/step - loss: 3.2120 - accuracy: 0.3244\n",
            "Epoch 11/100\n",
            "3010/3010 [==============================] - 19s 6ms/step - loss: 3.0067 - accuracy: 0.3583\n",
            "Epoch 12/100\n",
            "3010/3010 [==============================] - 19s 6ms/step - loss: 2.8132 - accuracy: 0.3928\n",
            "Epoch 13/100\n",
            "3010/3010 [==============================] - 18s 6ms/step - loss: 2.6356 - accuracy: 0.4245\n",
            "Epoch 14/100\n",
            "3010/3010 [==============================] - 19s 6ms/step - loss: 2.4720 - accuracy: 0.4563\n",
            "Epoch 15/100\n",
            "3010/3010 [==============================] - 18s 6ms/step - loss: 2.3218 - accuracy: 0.4860\n",
            "Epoch 16/100\n",
            "3010/3010 [==============================] - 19s 6ms/step - loss: 2.1830 - accuracy: 0.5143\n",
            "Epoch 17/100\n",
            "3010/3010 [==============================] - 18s 6ms/step - loss: 2.0543 - accuracy: 0.5416\n",
            "Epoch 18/100\n",
            "3010/3010 [==============================] - 19s 6ms/step - loss: 1.9379 - accuracy: 0.5666\n",
            "Epoch 19/100\n",
            "3010/3010 [==============================] - 19s 6ms/step - loss: 1.8309 - accuracy: 0.5886\n",
            "Epoch 20/100\n",
            "3010/3010 [==============================] - 19s 6ms/step - loss: 1.7323 - accuracy: 0.6098\n",
            "Epoch 21/100\n",
            "3010/3010 [==============================] - 20s 7ms/step - loss: 1.6439 - accuracy: 0.6279\n",
            "Epoch 22/100\n",
            "3010/3010 [==============================] - 19s 6ms/step - loss: 1.5626 - accuracy: 0.6458\n",
            "Epoch 23/100\n",
            "3010/3010 [==============================] - 20s 6ms/step - loss: 1.4857 - accuracy: 0.6634\n",
            "Epoch 24/100\n",
            "3010/3010 [==============================] - 20s 7ms/step - loss: 1.4148 - accuracy: 0.6801\n",
            "Epoch 25/100\n",
            "3010/3010 [==============================] - 22s 7ms/step - loss: 1.3516 - accuracy: 0.6932\n",
            "Epoch 26/100\n",
            "3010/3010 [==============================] - 21s 7ms/step - loss: 1.2929 - accuracy: 0.7060\n",
            "Epoch 27/100\n",
            "3010/3010 [==============================] - 19s 6ms/step - loss: 1.2359 - accuracy: 0.7193\n",
            "Epoch 28/100\n",
            "3010/3010 [==============================] - 21s 7ms/step - loss: 1.1866 - accuracy: 0.7288\n",
            "Epoch 29/100\n",
            "3010/3010 [==============================] - 21s 7ms/step - loss: 1.1390 - accuracy: 0.7396\n",
            "Epoch 30/100\n",
            "3010/3010 [==============================] - 20s 7ms/step - loss: 1.0965 - accuracy: 0.7490\n",
            "Epoch 31/100\n",
            "3010/3010 [==============================] - 20s 7ms/step - loss: 1.0535 - accuracy: 0.7596\n",
            "Epoch 32/100\n",
            "3010/3010 [==============================] - 20s 7ms/step - loss: 1.0190 - accuracy: 0.7660\n",
            "Epoch 33/100\n",
            "3010/3010 [==============================] - 21s 7ms/step - loss: 0.9841 - accuracy: 0.7724\n",
            "Epoch 34/100\n",
            "3010/3010 [==============================] - 21s 7ms/step - loss: 0.9537 - accuracy: 0.7810\n",
            "Epoch 35/100\n",
            "3010/3010 [==============================] - 20s 7ms/step - loss: 0.9224 - accuracy: 0.7869\n",
            "Epoch 36/100\n",
            "3010/3010 [==============================] - 20s 7ms/step - loss: 0.8941 - accuracy: 0.7946\n",
            "Epoch 37/100\n",
            "3010/3010 [==============================] - 20s 7ms/step - loss: 0.8679 - accuracy: 0.8000\n",
            "Epoch 38/100\n",
            "3010/3010 [==============================] - 19s 6ms/step - loss: 0.8494 - accuracy: 0.8031\n",
            "Epoch 39/100\n",
            "3010/3010 [==============================] - 20s 7ms/step - loss: 0.8241 - accuracy: 0.8081\n",
            "Epoch 40/100\n",
            "3010/3010 [==============================] - 19s 6ms/step - loss: 0.8051 - accuracy: 0.8125\n",
            "Epoch 41/100\n",
            "3010/3010 [==============================] - 20s 7ms/step - loss: 0.7858 - accuracy: 0.8172\n",
            "Epoch 42/100\n",
            "3010/3010 [==============================] - 20s 7ms/step - loss: 0.7675 - accuracy: 0.8213\n",
            "Epoch 43/100\n",
            "3010/3010 [==============================] - 19s 6ms/step - loss: 0.7514 - accuracy: 0.8229\n",
            "Epoch 44/100\n",
            "3010/3010 [==============================] - 20s 7ms/step - loss: 0.7335 - accuracy: 0.8275\n",
            "Epoch 45/100\n",
            "3010/3010 [==============================] - 19s 6ms/step - loss: 0.7195 - accuracy: 0.8303\n",
            "Epoch 46/100\n",
            "3010/3010 [==============================] - 20s 7ms/step - loss: 0.7065 - accuracy: 0.8331\n",
            "Epoch 47/100\n",
            "3010/3010 [==============================] - 19s 6ms/step - loss: 0.6933 - accuracy: 0.8356\n",
            "Epoch 48/100\n",
            "3010/3010 [==============================] - 19s 6ms/step - loss: 0.6851 - accuracy: 0.8376\n",
            "Epoch 49/100\n",
            "3010/3010 [==============================] - 20s 7ms/step - loss: 0.6722 - accuracy: 0.8406\n",
            "Epoch 50/100\n",
            "3010/3010 [==============================] - 19s 6ms/step - loss: 0.6630 - accuracy: 0.8425\n",
            "Epoch 51/100\n",
            "3010/3010 [==============================] - 22s 7ms/step - loss: 0.6495 - accuracy: 0.8456\n",
            "Epoch 52/100\n",
            "3010/3010 [==============================] - 19s 6ms/step - loss: 0.6432 - accuracy: 0.8452\n",
            "Epoch 53/100\n",
            "3010/3010 [==============================] - 20s 7ms/step - loss: 0.6360 - accuracy: 0.8474\n",
            "Epoch 54/100\n",
            "3010/3010 [==============================] - 20s 7ms/step - loss: 0.6263 - accuracy: 0.8487\n",
            "Epoch 55/100\n",
            "3010/3010 [==============================] - 19s 6ms/step - loss: 0.6199 - accuracy: 0.8499\n",
            "Epoch 56/100\n",
            "3010/3010 [==============================] - 20s 7ms/step - loss: 0.6128 - accuracy: 0.8518\n",
            "Epoch 57/100\n",
            "3010/3010 [==============================] - 19s 6ms/step - loss: 0.6056 - accuracy: 0.8519\n",
            "Epoch 58/100\n",
            "3010/3010 [==============================] - 19s 6ms/step - loss: 0.6000 - accuracy: 0.8528\n",
            "Epoch 59/100\n",
            "3010/3010 [==============================] - 19s 6ms/step - loss: 0.5945 - accuracy: 0.8554\n",
            "Epoch 60/100\n",
            "3010/3010 [==============================] - 20s 6ms/step - loss: 0.5870 - accuracy: 0.8570\n",
            "Epoch 61/100\n",
            "3010/3010 [==============================] - 19s 6ms/step - loss: 0.5870 - accuracy: 0.8556\n",
            "Epoch 62/100\n",
            "3010/3010 [==============================] - 19s 6ms/step - loss: 0.5791 - accuracy: 0.8579\n",
            "Epoch 63/100\n",
            "3010/3010 [==============================] - 19s 6ms/step - loss: 0.5731 - accuracy: 0.8589\n",
            "Epoch 64/100\n",
            "3010/3010 [==============================] - 19s 6ms/step - loss: 0.5702 - accuracy: 0.8588\n",
            "Epoch 65/100\n",
            "3010/3010 [==============================] - 20s 7ms/step - loss: 0.5680 - accuracy: 0.8588\n",
            "Epoch 66/100\n",
            "3010/3010 [==============================] - 19s 6ms/step - loss: 0.5633 - accuracy: 0.8608\n",
            "Epoch 67/100\n",
            "3010/3010 [==============================] - 20s 6ms/step - loss: 0.5583 - accuracy: 0.8614\n",
            "Epoch 68/100\n",
            "3010/3010 [==============================] - 19s 6ms/step - loss: 0.5544 - accuracy: 0.8622\n",
            "Epoch 69/100\n",
            "3010/3010 [==============================] - 20s 7ms/step - loss: 0.5504 - accuracy: 0.8633\n",
            "Epoch 70/100\n",
            "3010/3010 [==============================] - 20s 7ms/step - loss: 0.5466 - accuracy: 0.8636\n",
            "Epoch 71/100\n",
            "3010/3010 [==============================] - 19s 6ms/step - loss: 0.5430 - accuracy: 0.8646\n",
            "Epoch 72/100\n",
            "3010/3010 [==============================] - 20s 7ms/step - loss: 0.5469 - accuracy: 0.8618\n",
            "Epoch 73/100\n",
            "3010/3010 [==============================] - 19s 6ms/step - loss: 0.5376 - accuracy: 0.8655\n",
            "Epoch 74/100\n",
            "3010/3010 [==============================] - 20s 7ms/step - loss: 0.5361 - accuracy: 0.8653\n",
            "Epoch 75/100\n",
            "3010/3010 [==============================] - 19s 6ms/step - loss: 0.5344 - accuracy: 0.8651\n",
            "Epoch 76/100\n",
            "3010/3010 [==============================] - 19s 6ms/step - loss: 0.5307 - accuracy: 0.8662\n",
            "Epoch 77/100\n",
            "3010/3010 [==============================] - 20s 7ms/step - loss: 0.5328 - accuracy: 0.8656\n",
            "Epoch 78/100\n",
            "3010/3010 [==============================] - 19s 6ms/step - loss: 0.5277 - accuracy: 0.8662\n",
            "Epoch 79/100\n",
            "3010/3010 [==============================] - 20s 7ms/step - loss: 0.5274 - accuracy: 0.8657\n",
            "Epoch 80/100\n",
            "3010/3010 [==============================] - 19s 6ms/step - loss: 0.5261 - accuracy: 0.8663\n",
            "Epoch 81/100\n",
            "3010/3010 [==============================] - 19s 6ms/step - loss: 0.5185 - accuracy: 0.8681\n",
            "Epoch 82/100\n",
            "3010/3010 [==============================] - 19s 6ms/step - loss: 0.5218 - accuracy: 0.8667\n",
            "Epoch 83/100\n",
            "3010/3010 [==============================] - 19s 6ms/step - loss: 0.5211 - accuracy: 0.8666\n",
            "Epoch 84/100\n",
            "3010/3010 [==============================] - 19s 6ms/step - loss: 0.5171 - accuracy: 0.8674\n",
            "Epoch 85/100\n",
            "3010/3010 [==============================] - 19s 6ms/step - loss: 0.5192 - accuracy: 0.8666\n",
            "Epoch 86/100\n",
            "3010/3010 [==============================] - 19s 6ms/step - loss: 0.5136 - accuracy: 0.8685\n",
            "Epoch 87/100\n",
            "3010/3010 [==============================] - 19s 6ms/step - loss: 0.5155 - accuracy: 0.8674\n",
            "Epoch 88/100\n",
            "3010/3010 [==============================] - 19s 6ms/step - loss: 0.5067 - accuracy: 0.8707\n",
            "Epoch 89/100\n",
            "3010/3010 [==============================] - 19s 6ms/step - loss: 0.5184 - accuracy: 0.8657\n",
            "Epoch 90/100\n",
            "3010/3010 [==============================] - 19s 6ms/step - loss: 0.5108 - accuracy: 0.8680\n",
            "Epoch 91/100\n",
            "3010/3010 [==============================] - 18s 6ms/step - loss: 0.5097 - accuracy: 0.8682\n",
            "Epoch 92/100\n",
            "3010/3010 [==============================] - 19s 6ms/step - loss: 0.5083 - accuracy: 0.8681\n",
            "Epoch 93/100\n",
            "3010/3010 [==============================] - 19s 6ms/step - loss: 0.5060 - accuracy: 0.8695\n",
            "Epoch 94/100\n",
            "3010/3010 [==============================] - 21s 7ms/step - loss: 0.5108 - accuracy: 0.8671\n",
            "Epoch 95/100\n",
            "3010/3010 [==============================] - 19s 6ms/step - loss: 0.5109 - accuracy: 0.8673\n",
            "Epoch 96/100\n",
            "3010/3010 [==============================] - 20s 7ms/step - loss: 0.5075 - accuracy: 0.8675\n",
            "Epoch 97/100\n",
            "3010/3010 [==============================] - 21s 7ms/step - loss: 0.5095 - accuracy: 0.8665\n",
            "Epoch 98/100\n",
            "3010/3010 [==============================] - 20s 6ms/step - loss: 0.5027 - accuracy: 0.8692\n",
            "Epoch 99/100\n",
            "3010/3010 [==============================] - 20s 7ms/step - loss: 0.5020 - accuracy: 0.8692\n",
            "Epoch 100/100\n",
            "3010/3010 [==============================] - 20s 7ms/step - loss: 0.5067 - accuracy: 0.8670\n"
          ]
        },
        {
          "data": {
            "text/plain": [
              "<keras.callbacks.History at 0x7fde9a15cbe0>"
            ]
          },
          "execution_count": 19,
          "metadata": {},
          "output_type": "execute_result"
        }
      ],
      "source": [
        "model.compile(loss='categorical_crossentropy', optimizer='adam', metrics=['accuracy'])\n",
        "model.fit(X, y, epochs=100, verbose=1)"
      ]
    },
    {
      "cell_type": "code",
      "execution_count": 23,
      "metadata": {
        "colab": {
          "base_uri": "https://localhost:8080/"
        },
        "id": "hQDorXGBZDNP",
        "outputId": "b41110dc-1b2a-4b65-93eb-a63c051ff122"
      },
      "outputs": [
        {
          "name": "stdout",
          "output_type": "stream",
          "text": [
            "1/1 [==============================] - 0s 22ms/step\n",
            "1/1 [==============================] - 0s 22ms/step\n",
            "1/1 [==============================] - 0s 20ms/step\n",
            "This hotel is a very soul\n"
          ]
        }
      ],
      "source": [
        "seed_text = \"This hotel is\"\n",
        "next_words = 3\n",
        "\n",
        "for _ in range(next_words):\n",
        "    token_list = tokenizer.texts_to_sequences([seed_text])[0]\n",
        "    token_list = pad_sequences([token_list], maxlen=max_sequence_len-1, padding='pre')\n",
        "    predicted = np.argmax(model.predict(token_list), axis=-1)\n",
        "    output_word = \"\"\n",
        "    for word, index in tokenizer.word_index.items():\n",
        "        if index == predicted:\n",
        "            output_word = word\n",
        "            break\n",
        "    seed_text += \" \" + output_word\n",
        "\n",
        "print(seed_text)"
      ]
    },
    {
      "cell_type": "code",
      "execution_count": null,
      "metadata": {},
      "outputs": [],
      "source": [
        "with open(\"output.txt\",'w') as file:\n",
        "  file.writelines([seed_text])\n",
        "  file.close()"
      ]
    },
    {
      "cell_type": "code",
      "execution_count": 3,
      "metadata": {
        "id": "1QwnMsiKhbnX"
      },
      "outputs": [
        {
          "name": "stdout",
          "output_type": "stream",
          "text": [
            "1355\n",
            "2632\n"
          ]
        }
      ],
      "source": [
        "#Importing Library\n",
        "from PIL import Image\n",
        "#Open the text file which you have to convert into handwriting\n",
        "with open('output.txt','r') as txt:\n",
        "    lines = txt.readlines()\n",
        "  \n",
        "\n",
        "\n",
        "#path of page(background)photo (I have used blank page)\\\n",
        "BG=Image.open('myfont/bg.png') \n",
        "for line in lines:\n",
        "  text = line.strip()\n",
        "  sheet_width=BG.width\n",
        "  gap, ht = 0, 0\n",
        "\n",
        "  for i in text.replace(\"\\n\",\" \"):\n",
        "      cases = Image.open(\"myfont/{}.png\".format(str(ord(i))))\n",
        "      BG.paste(cases, (gap, ht))\n",
        "      size = cases.width\n",
        "      height=cases.height\n",
        "      #print(size)\n",
        "      gap+=size\n",
        "      if sheet_width < gap or len(i)*115 >(sheet_width-gap):\n",
        "          gap,ht=0,ht+140\n",
        "  print(gap)\n",
        "  print(sheet_width)\n",
        "  BG.show()"
      ]
    }
  ],
  "metadata": {
    "accelerator": "GPU",
    "colab": {
      "gpuType": "T4",
      "provenance": []
    },
    "kernelspec": {
      "display_name": "Python 3",
      "name": "python3"
    },
    "language_info": {
      "codemirror_mode": {
        "name": "ipython",
        "version": 3
      },
      "file_extension": ".py",
      "mimetype": "text/x-python",
      "name": "python",
      "nbconvert_exporter": "python",
      "pygments_lexer": "ipython3",
      "version": "3.9.7"
    }
  },
  "nbformat": 4,
  "nbformat_minor": 0
}
